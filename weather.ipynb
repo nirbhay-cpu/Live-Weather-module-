{
 "cells": [
  {
   "cell_type": "markdown",
   "metadata": {},
   "source": [
    "# EXRACTING CURRENT WEATHER OF ANY PLACE BY USING PYTHON"
   ]
  },
  {
   "cell_type": "code",
   "execution_count": 2,
   "metadata": {},
   "outputs": [],
   "source": [
    "#import library\n",
    "\n",
    "import requests                           "
   ]
  },
  {
   "cell_type": "code",
   "execution_count": 3,
   "metadata": {
    "scrolled": false
   },
   "outputs": [
    {
     "name": "stdout",
     "output_type": "stream",
     "text": [
      "Enter city\n",
      "Delhi\n",
      "Temp in C:  37.14999999999998\n",
      "Humidity:  47\n",
      "haze\n"
     ]
    }
   ],
   "source": [
    "print(\"Enter city\")\n",
    "cname = input()                              # take city name as input  by user\n",
    "\n",
    "# this url gives all weather information of any city\n",
    "url = \"http://api.openweathermap.org/data/2.5/weather?appid=39204be196c50a2a10070b61303968bd&q=\"+cname\n",
    "\n",
    "data =  requests.get(url=url)                # extract that url by using get func which falls in request library\n",
    "data=data.json()                             # change data in dictionary type\n",
    "if data[\"cod\"] == \"404\":                     # condition for error occur\n",
    "    print(data[\"message\"])\n",
    "elif data[\"cod\"]== 401:\n",
    "    print(data[\"message\"])\n",
    "else:\n",
    "    dct=data[\"main\"]                        # extracting main key from data dictionary\n",
    "    kelvin=dct['temp']                      # extracting temp from dct\n",
    "    c=kelvin-273                            # convert temperature into celsius from kelvin\n",
    "    h=dct['humidity']                       # extracting humidity from dct\n",
    "    print(\"Temp in C: \",c)\n",
    "    print(\"Humidity: \",h)\n",
    "    lst=data[\"weather\"]                     # extracting weather key from data dictionary\n",
    "    desc=lst[0]['description']              # extracting describtion\n",
    "    print(desc)\n"
   ]
  },
  {
   "cell_type": "markdown",
   "metadata": {},
   "source": [
    "#### Here , I will show you that why I am extracting data like that by printing data variable"
   ]
  },
  {
   "cell_type": "code",
   "execution_count": 4,
   "metadata": {},
   "outputs": [
    {
     "data": {
      "text/plain": [
       "{'coord': {'lon': 77.22, 'lat': 28.67},\n",
       " 'weather': [{'id': 721,\n",
       "   'main': 'Haze',\n",
       "   'description': 'haze',\n",
       "   'icon': '50d'}],\n",
       " 'base': 'stations',\n",
       " 'main': {'temp': 310.15,\n",
       "  'feels_like': 314.02,\n",
       "  'temp_min': 310.15,\n",
       "  'temp_max': 310.15,\n",
       "  'pressure': 998,\n",
       "  'humidity': 47},\n",
       " 'visibility': 3500,\n",
       " 'wind': {'speed': 2.6, 'deg': 320},\n",
       " 'clouds': {'all': 75},\n",
       " 'dt': 1594730530,\n",
       " 'sys': {'type': 1,\n",
       "  'id': 9165,\n",
       "  'country': 'IN',\n",
       "  'sunrise': 1594684949,\n",
       "  'sunset': 1594734665},\n",
       " 'timezone': 19800,\n",
       " 'id': 1273294,\n",
       " 'name': 'Delhi',\n",
       " 'cod': 200}"
      ]
     },
     "execution_count": 4,
     "metadata": {},
     "output_type": "execute_result"
    }
   ],
   "source": [
    "data"
   ]
  },
  {
   "cell_type": "code",
   "execution_count": null,
   "metadata": {},
   "outputs": [],
   "source": []
  }
 ],
 "metadata": {
  "kernelspec": {
   "display_name": "Python 3",
   "language": "python",
   "name": "python3"
  },
  "language_info": {
   "codemirror_mode": {
    "name": "ipython",
    "version": 3
   },
   "file_extension": ".py",
   "mimetype": "text/x-python",
   "name": "python",
   "nbconvert_exporter": "python",
   "pygments_lexer": "ipython3",
   "version": "3.7.6"
  }
 },
 "nbformat": 4,
 "nbformat_minor": 4
}
